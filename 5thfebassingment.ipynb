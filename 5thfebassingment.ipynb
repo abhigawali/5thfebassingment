{
 "cells": [
  {
   "cell_type": "markdown",
   "id": "b67a4ebf-a18b-44e3-8e46-1fefec0df8bc",
   "metadata": {},
   "source": [
    "Q1. Explain Class and Object with respect to Object-Oriented Programming. Give a suitable example.\n",
    "Ans-1) Python is an object oriented programming language.\n",
    "\n",
    "Almost everything in Python is an object, with its properties and methods.\n",
    "A Class is like an object constructor, or a \"blueprint\" for creating objects."
   ]
  },
  {
   "cell_type": "code",
   "execution_count": 1,
   "id": "2c6db10b-3f16-428f-85e0-4e6149893f9e",
   "metadata": {},
   "outputs": [
    {
     "data": {
      "text/plain": [
       "'abhi_gawali'"
      ]
     },
     "execution_count": 1,
     "metadata": {},
     "output_type": "execute_result"
    }
   ],
   "source": [
    "# Example \n",
    "class Name:\n",
    "    my_name=\"abhi_gawali\"\n",
    "\n",
    "Name().my_name"
   ]
  },
  {
   "cell_type": "markdown",
   "id": "fca371c1-e58e-4dbe-bd7e-00eab291bd32",
   "metadata": {},
   "source": [
    "Q2. Name the four pillars of OOPs.\n"
   ]
  },
  {
   "cell_type": "markdown",
   "id": "a9a6af78-1d30-4fbb-ad38-f5287719e5d5",
   "metadata": {},
   "source": [
    "\n",
    "Ans-2) There are four pillars in object-oriented programming (OOP).\n",
    "\n",
    "Inheritance,\n",
    "Polymorphism,\n",
    "Encapsulation,\n",
    "Abstraction."
   ]
  },
  {
   "cell_type": "markdown",
   "id": "ff2bf787-059e-4652-b044-c6bd9ee343a7",
   "metadata": {},
   "source": [
    "Q3. Explain why the init() function is used. Give a suitable example.\n"
   ]
  },
  {
   "cell_type": "markdown",
   "id": "cbee76f8-6a75-4626-a34a-e12d7ff672f0",
   "metadata": {},
   "source": [
    "\n",
    "Ans-3) init() method is like Constructors are used to initialize the object’s state. Like methods, a constructor also contains a collection of statements (instructions) that are executed at the time of Object creation. It runs as soon as an object of a class is instantiated. The method is useful to do any initialization you want to do with your object."
   ]
  },
  {
   "cell_type": "code",
   "execution_count": 3,
   "id": "d6d28d3e-e7b7-4f66-bbb4-43ea0222fd58",
   "metadata": {},
   "outputs": [
    {
     "name": "stdout",
     "output_type": "stream",
     "text": [
      "abhi Welcome to PW_Skills\n"
     ]
    },
    {
     "data": {
      "text/plain": [
       "'abhi'"
      ]
     },
     "execution_count": 3,
     "metadata": {},
     "output_type": "execute_result"
    }
   ],
   "source": [
    "class student:\n",
    "    def __init__(self,name):\n",
    "        self.name = name\n",
    "        \n",
    "    def names(self):\n",
    "        print(f\"{self.name} Welcome to PW_Skills\")\n",
    "stu1=student(\"abhi\")\n",
    "stu1.names()\n",
    "stu1.name\n"
   ]
  },
  {
   "cell_type": "markdown",
   "id": "cacee874-a300-433f-a5cb-17483f5c9623",
   "metadata": {},
   "source": [
    "\n",
    "Q4. Why self is used in OOPs?"
   ]
  },
  {
   "cell_type": "markdown",
   "id": "34f299cd-befb-4ceb-b609-ceda7f18dd9c",
   "metadata": {},
   "source": [
    "Ans-4) self represents the instance of the class. By using the self we can access the attributes and methods of the class in python. It binds the attributes with the given arguments.\n",
    "\n",
    "The reason you need to use self. is because Python does not use the @ syntax to refer to instance attributes."
   ]
  },
  {
   "cell_type": "markdown",
   "id": "c3758f34-aba8-447b-b396-ed0901782011",
   "metadata": {},
   "source": [
    "Q5. What is inheritance? Give an example for each type of inheritance."
   ]
  },
  {
   "cell_type": "markdown",
   "id": "4b6c7d4d-1579-4954-bc6e-4b1945077180",
   "metadata": {},
   "source": [
    "Ans-5) Inheritance is defined as the mechanism of inheriting the properties of the base class to the child class. Here we a going to see the types of inheritance in Python."
   ]
  },
  {
   "cell_type": "markdown",
   "id": "846dc6d5-5e3c-4eba-8e7a-808abd7aed6a",
   "metadata": {},
   "source": [
    "Types of Inheritance in Python :- Types of Inheritance depend upon the number of child and parent classes involved. Types of inheritance in Python :-\n",
    "\n",
    "Single Inheritance,\n",
    "Multiple Inheritance,\n",
    "Multilavel Inheritance,\n",
    "Hierachical Inheritance,\n",
    "Hybrid Inheritace,"
   ]
  },
  {
   "cell_type": "markdown",
   "id": "b013f92c-47ce-449d-a5b0-c1b2d2d6785b",
   "metadata": {},
   "source": [
    "*Single Inheritance :- Single inheritance enables a derived class to inherit properties from a single parent class, thus enabling code reusability and the addition of new features to existing code."
   ]
  },
  {
   "cell_type": "code",
   "execution_count": 4,
   "id": "dea98683-256a-4a3f-b39f-7e83402569fd",
   "metadata": {},
   "outputs": [
    {
     "name": "stdout",
     "output_type": "stream",
     "text": [
      "This Function is in Parent Class\n",
      "This Function is in Child Class\n"
     ]
    }
   ],
   "source": [
    "class parent:\n",
    "    def text1(self):\n",
    "        print(\"This Function is in Parent Class\")\n",
    "\n",
    "\n",
    "class child(parent):\n",
    "    def text2(self):\n",
    "        print(\"This Function is in Child Class\")\n",
    "\n",
    "obj=child()\n",
    "\n",
    "obj.text1()\n",
    "obj.text2()\n",
    "    "
   ]
  },
  {
   "cell_type": "markdown",
   "id": "1221d890-dc7d-4dc1-99e4-a294ce8291e0",
   "metadata": {},
   "source": [
    "\n",
    "*Multiple Inheritance :- When a class can be derived from more than one base class this type of inheritance is called multiple inheritances. In multiple inheritances, all the features of the base classes are inherited into the derived class."
   ]
  },
  {
   "cell_type": "code",
   "execution_count": 6,
   "id": "b061c03c-233a-4552-b8e2-a61b0c2356ee",
   "metadata": {},
   "outputs": [
    {
     "name": "stdout",
     "output_type": "stream",
     "text": [
      "Mother  sunita\n",
      "Father  ramesh\n"
     ]
    }
   ],
   "source": [
    "# Multiple Inheritance \n",
    "\n",
    "# Bass Class 1\n",
    "class Mother:\n",
    "    Mother_name=\"\"\n",
    "    def mother(self):\n",
    "        print(self.Mother_name)\n",
    "\n",
    "# Bass Class 2\n",
    "class Father:\n",
    "    Father_name=\"\"\n",
    "    def father(self):\n",
    "        print(self.Father_name)\n",
    "    \n",
    "# Derived Class\n",
    "class son(Mother,Father):\n",
    "    def return_parents(self):\n",
    "        print(\"Mother \",self.Mother_name)\n",
    "        print(\"Father \",self.Father_name)\n",
    "\n",
    "# Deiver's code\n",
    "s=son()\n",
    "s.Father_name=\"ramesh\"\n",
    "s.Mother_name=\"sunita\"\n",
    "s.return_parents()"
   ]
  },
  {
   "cell_type": "markdown",
   "id": "b14c7490-1c13-49f6-8bf5-85355fccb66b",
   "metadata": {},
   "source": [
    "*Multilevel Inheritance :- In multilevel inheritance, features of the base class and the derived class are further inherited into the new derived class. This is similar to a relationship representing a child and a grandfather."
   ]
  },
  {
   "cell_type": "code",
   "execution_count": 8,
   "id": "9804c2ba-720f-4b8c-94c5-2c97ab2d95ce",
   "metadata": {},
   "outputs": [
    {
     "name": "stdout",
     "output_type": "stream",
     "text": [
      "GrandFather  baburao\n",
      "Father  ramesh\n",
      "Son  Abhi\n"
     ]
    },
    {
     "data": {
      "text/plain": [
       "('baburao', 'ramesh', 'Abhi')"
      ]
     },
     "execution_count": 8,
     "metadata": {},
     "output_type": "execute_result"
    }
   ],
   "source": [
    "# Multileve Inheritance\n",
    "\n",
    "#Bass Class\n",
    "class GrandFather:\n",
    "    def __init__(self,grandfather):\n",
    "        self.grandfather=grandfather\n",
    "        \n",
    "# Intwemidate Class\n",
    "class Father(GrandFather):\n",
    "    def __init__(self,father,grandfather):\n",
    "        self.father=father\n",
    "        \n",
    "        # Invoking costuctor to GrandFather class\n",
    "        GrandFather.__init__(self,grandfather)\n",
    "    \n",
    "# Derived Class\n",
    "class Son(Father):\n",
    "    def __init__(self,son,father,grandfather):\n",
    "        self.son=son\n",
    "        \n",
    "        # Ivvoking constuction of father class\n",
    "        Father.__init__(self,father,grandfather)\n",
    "        \n",
    "    def return_generations(self):\n",
    "        print(\"GrandFather \",self.grandfather)\n",
    "        print(\"Father \",self.father)\n",
    "        print(\"Son \" ,self.son)\n",
    "        \n",
    "\n",
    "# Driver code\n",
    "s= Son(\"Abhi\",\"ramesh\",\"baburao\" )\n",
    "s.return_generations()\n",
    "s.grandfather,s.father,s.son"
   ]
  },
  {
   "cell_type": "markdown",
   "id": "4affbee8-608f-455e-b86b-8e8d18317b7d",
   "metadata": {},
   "source": [
    "*Hierarchical Inheritance :- When more than one derived class are created from a single base this type of inheritance is called hierarchical inheritance. In this program, we have a parent (base) class and two child (derived) classes."
   ]
  },
  {
   "cell_type": "code",
   "execution_count": 9,
   "id": "6bc9a23a-b76a-4e9b-a480-5debd39363b7",
   "metadata": {},
   "outputs": [
    {
     "name": "stdout",
     "output_type": "stream",
     "text": [
      "This Function is in Parent Class\n",
      "This Function is in Child Class-1\n",
      "\n",
      "This Function is in Parent Class\n",
      "This Function is in Child Class-2\n"
     ]
    }
   ],
   "source": [
    "# Hierarchical Inheritance\n",
    "\n",
    "# Bass Class \n",
    "class Parents:\n",
    "    def text1(self):\n",
    "        print(\"This Function is in Parent Class\")\n",
    "        \n",
    "# Derived Class\n",
    "class Child1(Parents):\n",
    "    def text2(self):\n",
    "        print(\"This Function is in Child Class-1\")\n",
    "        \n",
    "# Derived class \n",
    "class Child2(Parents):\n",
    "    def text3(self):\n",
    "        print(\"This Function is in Child Class-2\")        \n",
    "    \n",
    "# Driver code\n",
    "obj1=Child1()\n",
    "obj2=Child2()\n",
    "\n",
    "obj1.text1()\n",
    "obj1.text2()\n",
    "print()\n",
    "obj2.text1()\n",
    "obj2.text3()"
   ]
  },
  {
   "cell_type": "markdown",
   "id": "ba9baef2-db47-4a4b-bd44-d323349cd379",
   "metadata": {},
   "source": [
    "\n",
    "*Hybrid Inheritance :- Inheritance consisting of multiple types of inheritance is called hybrid inheritance."
   ]
  },
  {
   "cell_type": "code",
   "execution_count": 11,
   "id": "a6a8ea16-ae7b-469b-99fc-a2deb947f4c4",
   "metadata": {},
   "outputs": [
    {
     "name": "stdout",
     "output_type": "stream",
     "text": [
      "This is function is in School Class\n",
      "This is function is in stucent-1 Class\n",
      "This is function is in student-2 Class\n",
      "This is function is in student-3 Class\n",
      "\n",
      "This is function is in School Class\n",
      "This is function is in stucent-1 Class\n",
      "\n",
      "This is function is in School Class\n",
      "This is function is in student-2 Class\n"
     ]
    }
   ],
   "source": [
    "# Hybrid Inheritance\n",
    "\n",
    "class school:\n",
    "    def text1(self):\n",
    "        print(\"This is function is in School Class\")\n",
    "    \n",
    "class student1(school):\n",
    "    def text2(self):\n",
    "        print(\"This is function is in stucent-1 Class\")        \n",
    "\n",
    "class student2(school):\n",
    "    def text3(self):\n",
    "        print(\"This is function is in student-2 Class\")        \n",
    "\n",
    "class student3(student1,student2):\n",
    "    def text4(self):\n",
    "        print(\"This is function is in student-3 Class\")\n",
    "        \n",
    "# Derive code\n",
    "obj=student3()\n",
    "obj.text1()\n",
    "obj.text2()\n",
    "obj.text3()\n",
    "obj.text4()\n",
    "print()\n",
    "obj1=student1()\n",
    "obj1.text1()\n",
    "obj1.text2()\n",
    "print()\n",
    "obj2=student2()\n",
    "obj2.text1()\n",
    "obj2.text3()"
   ]
  },
  {
   "cell_type": "code",
   "execution_count": null,
   "id": "aba70dbe-8cb5-4e0d-ab23-52ce91ef5315",
   "metadata": {},
   "outputs": [],
   "source": []
  }
 ],
 "metadata": {
  "kernelspec": {
   "display_name": "Python 3 (ipykernel)",
   "language": "python",
   "name": "python3"
  },
  "language_info": {
   "codemirror_mode": {
    "name": "ipython",
    "version": 3
   },
   "file_extension": ".py",
   "mimetype": "text/x-python",
   "name": "python",
   "nbconvert_exporter": "python",
   "pygments_lexer": "ipython3",
   "version": "3.10.8"
  }
 },
 "nbformat": 4,
 "nbformat_minor": 5
}
